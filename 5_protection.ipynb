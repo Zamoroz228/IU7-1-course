{
 "cells": [
  {
   "cell_type": "markdown",
   "id": "acc49799",
   "metadata": {},
   "source": [
    "$$ y = sin(x) - 1"
   ]
  },
  {
   "cell_type": "code",
   "execution_count": null,
   "id": "973b3df0",
   "metadata": {},
   "outputs": [],
   "source": [
    "from math import inf, sin\n",
    "\n",
    "EPS = 1e-4\n",
    "SIZEY = 120\n",
    "\n",
    "beginX = float(input())\n",
    "endX = float(input())\n",
    "step = float(input())"
   ]
  },
  {
   "cell_type": "code",
   "execution_count": null,
   "id": "b35b1a15",
   "metadata": {},
   "outputs": [],
   "source": [
    "currentX = beginX\n",
    "\n",
    "maxValue = -inf\n",
    "minValue = inf\n",
    "\n",
    "for _ in range(int((endX - beginX)//step)):\n",
    "    y =  sin(currentX) - 1\n",
    "    maxValue = max(maxValue, y)\n",
    "    minValue = min(minValue, y)\n",
    "    currentX += step\n",
    "    \n",
    "\n",
    "zeroEnable = False\n",
    "if abs(maxValue) < EPS :\n",
    "    zeroEnable = True\n",
    "if zeroEnable:\n",
    "    s = f'{' '*6}{minValue:7g}{' '*(SIZEY - 10)}{0:7g}'\n",
    "else:\n",
    "    s = f'{' '*6}{minValue:7g}{' '*(SIZEY - 10)}{maxValue:7g}'\n",
    "\n",
    "print(s, '-'*130, sep = '\\n')\n",
    "\n",
    "sizeOneChar = (maxValue - minValue) / SIZEY\n",
    "currentX = beginX\n",
    "\n",
    "for _ in range(int((endX - beginX)//step)):\n",
    "    y =  sin(currentX) - 1\n",
    "    currentPosition = int((y - minValue)//sizeOneChar)\n",
    "    if zeroEnable:\n",
    "        print(f'{currentX:^8.2f}|{' '*currentPosition}*{' '*(SIZEY-currentPosition)}|')\n",
    "    else:\n",
    "        print(f'{currentX:^8.2f}|{' '*currentPosition}*')\n",
    "    currentX += step"
   ]
  }
 ],
 "metadata": {
  "kernelspec": {
   "display_name": ".venv",
   "language": "python",
   "name": "python3"
  },
  "language_info": {
   "codemirror_mode": {
    "name": "ipython",
    "version": 3
   },
   "file_extension": ".py",
   "mimetype": "text/x-python",
   "name": "python",
   "nbconvert_exporter": "python",
   "pygments_lexer": "ipython3",
   "version": "3.13.7"
  }
 },
 "nbformat": 4,
 "nbformat_minor": 5
}
