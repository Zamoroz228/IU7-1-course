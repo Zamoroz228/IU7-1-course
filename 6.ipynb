{
 "cells": [
  {
   "cell_type": "markdown",
   "id": "e3337dae",
   "metadata": {},
   "source": [
    "1a. Добавить элемент в заданное место списка (по индексу) с использованием\n",
    "любых средств Python"
   ]
  },
  {
   "cell_type": "code",
   "execution_count": 2,
   "id": "79281021",
   "metadata": {},
   "outputs": [
    {
     "data": {
      "text/plain": [
       "[1, 2, 3, 4, 5, 5, 6]"
      ]
     },
     "execution_count": 2,
     "metadata": {},
     "output_type": "execute_result"
    }
   ],
   "source": [
    "listWithNumbers = [1, 2, 3, 4, 5, 6]\n",
    "index = 4\n",
    "element = 5\n",
    "listWithNumbers.insert(index, element)\n",
    "listWithNumbers"
   ]
  },
  {
   "cell_type": "markdown",
   "id": "37f0bf9a",
   "metadata": {},
   "source": [
    "1b. Добавить элемент в заданное место списка (по индексу) алгоритмически."
   ]
  },
  {
   "cell_type": "code",
   "execution_count": null,
   "id": "dc39251c",
   "metadata": {},
   "outputs": [
    {
     "data": {
      "text/plain": [
       "[1, 2, 3, 4, 5, 6, 5]"
      ]
     },
     "execution_count": 28,
     "metadata": {},
     "output_type": "execute_result"
    }
   ],
   "source": [
    "listWithNumbers = [1, 2, 3, 4, 5, 6]\n",
    "index = 6\n",
    "element = 5\n",
    "\n",
    "listWithNumbers.append(0)\n",
    "for i in range(len(listWithNumbers)):\n",
    "    if i == index:\n",
    "        lastest = listWithNumbers[i]\n",
    "        listWithNumbers[i] = element\n",
    "    elif i > index:\n",
    "        listWithNumbers[i], lastest = lastest, listWithNumbers[i]\n",
    "            \n",
    "listWithNumbers"
   ]
  },
  {
   "cell_type": "markdown",
   "id": "a4fd8ce6",
   "metadata": {},
   "source": [
    "2a. Удалить элемент с заданным индексом с использованием любых средств\n",
    "Python."
   ]
  },
  {
   "cell_type": "code",
   "execution_count": 6,
   "id": "49a2bb43",
   "metadata": {},
   "outputs": [
    {
     "data": {
      "text/plain": [
       "[1, 2, 3, 4, 6]"
      ]
     },
     "execution_count": 6,
     "metadata": {},
     "output_type": "execute_result"
    }
   ],
   "source": [
    "listWithNumbers = [1, 2, 3, 4, 5, 6]\n",
    "index = 4\n",
    "\n",
    "listWithNumbers.pop(index)\n",
    "listWithNumbers"
   ]
  },
  {
   "cell_type": "markdown",
   "id": "1002f49d",
   "metadata": {},
   "source": [
    "2b. Удалить элемент с заданным индексом алгоритмически."
   ]
  },
  {
   "cell_type": "code",
   "execution_count": 10,
   "id": "2e1a30c9",
   "metadata": {},
   "outputs": [
    {
     "data": {
      "text/plain": [
       "[1, 2, 3, 4, 5]"
      ]
     },
     "execution_count": 10,
     "metadata": {},
     "output_type": "execute_result"
    }
   ],
   "source": [
    "listWithNumbers = [1, 2, 3, 4, 5, 6]\n",
    "index = 5\n",
    "\n",
    "for i in range(index, len(listWithNumbers) - 1):\n",
    "    listWithNumbers[i] = listWithNumbers[i + 1]\n",
    "\n",
    "listWithNumbers = listWithNumbers[:-1]\n",
    "\n",
    "listWithNumbers"
   ]
  },
  {
   "cell_type": "markdown",
   "id": "f180e500",
   "metadata": {},
   "source": [
    "3. Найти значение K-го экстремума в списке"
   ]
  },
  {
   "cell_type": "code",
   "execution_count": null,
   "id": "934d3f2c",
   "metadata": {},
   "outputs": [
    {
     "name": "stdout",
     "output_type": "stream",
     "text": [
      "9\n"
     ]
    }
   ],
   "source": [
    "listWithNumbers = [0, 1, 0, 5, 3, 9, 0]\n",
    "k = 5\n",
    "\n",
    "numberOfFound = 0\n",
    "\n",
    "for i in range(1, len(listWithNumbers) - 1):\n",
    "    leftNumber, number, rightNumber = listWithNumbers[i - 1 : i + 2]\n",
    "    if (leftNumber < number and rightNumber < number) or \\\n",
    "        (leftNumber > number and rightNumber > number):\n",
    "            numberOfFound += 1\n",
    "            \n",
    "            if numberOfFound == k:\n",
    "                print(number)\n",
    "                break\n",
    "else:\n",
    "    print('Количество экстремумов меньше чем к')\n"
   ]
  },
  {
   "cell_type": "markdown",
   "id": "278c19fa",
   "metadata": {},
   "source": [
    "4. Найти наиболее длинную непрерывную последовательность по варианту   \n",
    "Вариант 4  \n",
    "Убывающая последовательность простых чисел"
   ]
  },
  {
   "cell_type": "code",
   "execution_count": 22,
   "id": "f087edae",
   "metadata": {},
   "outputs": [
    {
     "data": {
      "text/plain": [
       "1"
      ]
     },
     "execution_count": 22,
     "metadata": {},
     "output_type": "execute_result"
    }
   ],
   "source": [
    "listWithNumbers = [0, 1, 0, 5, 7, 2, 0]\n",
    "\n",
    "currentSequence = 0\n",
    "maxSequence = 0\n",
    "\n",
    "for index, value in enumerate(listWithNumbers):\n",
    "    \n",
    "    if value > 1:\n",
    "        numberIsPrime = True\n",
    "        for i in range(2, int(value**0.5)+1):\n",
    "            if value % i == 0:\n",
    "                numberIsPrime = False\n",
    "                break\n",
    "    else:\n",
    "        numberIsPrime = False\n",
    "    \n",
    "    if numberIsPrime and currentSequence == 0:\n",
    "        currentSequence = 1\n",
    "    elif numberIsPrime and value < listWithNumbers[index - 1]:\n",
    "        currentSequence += 1\n",
    "    else:\n",
    "        maxSequence = max(currentSequence, maxSequence)\n",
    "        currentSequence = 0\n",
    "    \n",
    "maxSequence = max(currentSequence, maxSequence)\n",
    "\n",
    "maxSequence"
   ]
  },
  {
   "cell_type": "markdown",
   "id": "240b521f",
   "metadata": {},
   "source": [
    "5. Поменять местами элементы с характеристиками по варианту.  \n",
    "Вариант 7  \n",
    "Последний нулевой и максимальный отрицательны"
   ]
  },
  {
   "cell_type": "code",
   "execution_count": null,
   "id": "cdfc67fe",
   "metadata": {},
   "outputs": [
    {
     "data": {
      "text/plain": [
       "[0, -5, -1, -5, 3, 9, 0]"
      ]
     },
     "execution_count": 6,
     "metadata": {},
     "output_type": "execute_result"
    }
   ],
   "source": [
    "listWithNumbers = [0, -5, 0, -5, 3, 9, -1]\n",
    "\n",
    "lastZeroPosition = -1\n",
    "\n",
    "maxNegativeValue = float('inf')\n",
    "maxNegativePosition = -1\n",
    "\n",
    "for index, value in enumerate(listWithNumbers):\n",
    "    if value == 0:\n",
    "        lastZeroPosition = index\n",
    "    \n",
    "    if maxNegativeValue < value < 0:\n",
    "        maxNegativeValue = value\n",
    "        maxNegativePosition = index\n",
    "\n",
    "if maxNegativePosition != -1 and lastZeroPosition != -1:\n",
    "    listWithNumbers[maxNegativePosition], listWithNumbers[lastZeroPosition] =\\\n",
    "    listWithNumbers[lastZeroPosition], listWithNumbers[maxNegativePosition]\n",
    "else:\n",
    "    print('Значений в списке не хватает')\n",
    "\n",
    "listWithNumbers"
   ]
  }
 ],
 "metadata": {
  "kernelspec": {
   "display_name": ".venv",
   "language": "python",
   "name": "python3"
  },
  "language_info": {
   "codemirror_mode": {
    "name": "ipython",
    "version": 3
   },
   "file_extension": ".py",
   "mimetype": "text/x-python",
   "name": "python",
   "nbconvert_exporter": "python",
   "pygments_lexer": "ipython3",
   "version": "3.13.8"
  }
 },
 "nbformat": 4,
 "nbformat_minor": 5
}
