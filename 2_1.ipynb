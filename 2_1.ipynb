{
 "cells": [
  {
   "cell_type": "markdown",
   "id": "4e8e9e8e",
   "metadata": {},
   "source": [
    "### Лаба 2_1\n",
    "##### Иванов Андрей ИУ7-16Б  \n",
    "---\n",
    "Написать программу, которая по введенным\n",
    "целочисленным координатам трех точек на плоскости\n",
    "вычисляет длины сторон образованного треугольника и\n",
    "длину высоты, проведенной из наименьшего угла.\n",
    "Определить, является ли треугольник тупоугольным.\n",
    "Далее вводятся координаты точки. Определить,\n",
    "находится ли точка внутри треугольника. Если да, то\n",
    "найти расстояние от точки до наиболее удаленной\n",
    "стороны треугольника."
   ]
  },
  {
   "cell_type": "code",
   "execution_count": 8,
   "id": "aecdf2db",
   "metadata": {},
   "outputs": [],
   "source": [
    "arrayWithPoints = []\n",
    "\n",
    "for i in range(3): # ввод точек\n",
    "    x, y = map(float, input(f\"Введите координаты {i + 1} точки: \").split())\n",
    "    arrayWithPoints.append((x, y))"
   ]
  },
  {
   "cell_type": "code",
   "execution_count": 9,
   "id": "c8fb617d",
   "metadata": {},
   "outputs": [
    {
     "name": "stdout",
     "output_type": "stream",
     "text": [
      "Стороны треугольника: 3 4 5\n",
      "Высота из наименьшего угла: 4\n",
      "Треугольнки не тупоугольный\n"
     ]
    }
   ],
   "source": [
    "EPS = 1e-8 # eps для проверки float чисел\n",
    "\n",
    "sideVectors = []\n",
    "for i in range(3):\n",
    "    for j in range(3):\n",
    "        if i <= j: # берем только нижнюю половину матрицы, чтобы не было повторов\n",
    "            continue\n",
    "        kordX = arrayWithPoints[i][0] - arrayWithPoints[j][0]\n",
    "        kordY = arrayWithPoints[i][1] - arrayWithPoints[j][1]\n",
    "        sideVectors.append((kordX, kordY))\n",
    "\n",
    "arrayWithLengtVector = []\n",
    "\n",
    "for vector in sideVectors:\n",
    "    lenght = (vector[0]**2 + vector[1]**2)**0.5\n",
    "    arrayWithLengtVector.append(lenght)\n",
    "\n",
    "len1, len2, len3 = arrayWithLengtVector[0], arrayWithLengtVector[1], arrayWithLengtVector[2]\n",
    "p = (len1 + len2 + len3) / 2\n",
    "area = (p * (p - len1) * (p - len2) * (p - len3))**0.5\n",
    "\n",
    "smallSideHeight = 2 * area / min(arrayWithLengtVector) # наим угол против наим стороны\n",
    "a, b, c = sorted(arrayWithLengtVector)\n",
    "\n",
    "outputText = 'Стороны треугольника:'\n",
    "for i in arrayWithLengtVector:\n",
    "    outputText += f' {i:.7g}'\n",
    "\n",
    "print(outputText, f'Высота из наименьшего угла: {smallSideHeight:.7g}',sep = '\\n') \n",
    "\n",
    "if c**2 > a**2 + b**2: # проверка на тупоугольность\n",
    "    print('Треугольник тупоугольный')\n",
    "else:\n",
    "    print('Треугольнки не тупоугольный')"
   ]
  },
  {
   "cell_type": "code",
   "execution_count": 10,
   "id": "bc185b05",
   "metadata": {},
   "outputs": [
    {
     "name": "stdout",
     "output_type": "stream",
     "text": [
      "Точка лежит вне треугольника\n"
     ]
    }
   ],
   "source": [
    "newpoint = tuple(map(float, input('Введите координаты новой точки').split()))\n",
    "\n",
    "# Блок для длины 1 треугольника\n",
    "points1 = arrayWithPoints[:2] + [newpoint]\n",
    "vectors1 = []\n",
    "for i in range(3):\n",
    "    for j in range(3):\n",
    "        if i <= j: # берем только нижнюю половину матрицы, чтобы не было повторов\n",
    "            continue\n",
    "        kordX = points1[i][0] - points1[j][0]\n",
    "        kordY = points1[i][1] - points1[j][1]\n",
    "        vectors1.append((kordX, kordY))\n",
    "        \n",
    "lenght1 = []\n",
    "for vector in vectors1:\n",
    "    lenght = (vector[0]**2 + vector[1]**2)**0.5\n",
    "    lenght1.append(lenght)\n",
    "\n",
    "# Блок для длины 2 треугольника\n",
    "points2 = arrayWithPoints[1:] + [newpoint]\n",
    "vectors2 = []\n",
    "for i in range(3):\n",
    "    for j in range(3):\n",
    "        if i <= j: # берем только нижнюю половину матрицы, чтобы не было повторов\n",
    "            continue\n",
    "        kordX = points2[i][0] - points2[j][0]\n",
    "        kordY = points2[i][1] - points2[j][1]\n",
    "        vectors2.append((kordX, kordY))\n",
    "        \n",
    "lenght2 = []\n",
    "for vector in vectors2:\n",
    "    lenght = (vector[0]**2 + vector[1]**2)**0.5\n",
    "    lenght2.append(lenght)\n",
    "    \n",
    "# Блок для длины 3 треугольника\n",
    "points3 = arrayWithPoints[::2] + [newpoint]\n",
    "vectors3 = []\n",
    "for i in range(3):\n",
    "    for j in range(3):\n",
    "        if i <= j: # берем только нижнюю половину матрицы, чтобы не было повторов\n",
    "            continue\n",
    "        kordX = points3[i][0] - points3[j][0]\n",
    "        kordY = points3[i][1] - points3[j][1]\n",
    "        vectors3.append((kordX, kordY))\n",
    "        \n",
    "lenght3 = []\n",
    "for vector in vectors3:\n",
    "    lenght = (vector[0]**2 + vector[1]**2)**0.5\n",
    "    lenght3.append(lenght)\n",
    "\n",
    "# Площадь маленьких треугольников на которые разделился большой треугольник\n",
    "len1, len2, len3 = lenght1[0], lenght1[1], lenght1[2]\n",
    "p = (len1 + len2 + len3) / 2\n",
    "area1 = (p * (p - len1) * (p - len2) * (p - len3))**0.5\n",
    "\n",
    "len1, len2, len3 = lenght2[0], lenght2[1], lenght2[2]\n",
    "p = (len1 + len2 + len3) / 2\n",
    "area2 = (p * (p - len1) * (p - len2) * (p - len3))**0.5\n",
    "\n",
    "len1, len2, len3 = lenght3[0], lenght3[1], lenght3[2]\n",
    "p = (len1 + len2 + len3) / 2\n",
    "area3 = (p * (p - len1) * (p - len2) * (p - len3))**0.5\n",
    "\n",
    "# Проверка на вхождение этой точки внутрь треугольника \n",
    "if abs(area - (area1 + area2 + area3)) < EPS \\\n",
    "and all([area1, area2, area3]):\n",
    "    # Максимальная высота это и есть расстояние,\n",
    "    # а в lenght 1 элемент сторона изначаьного треугоьника\n",
    "    maxDistance = max(2*area1 / lenght1[0],\n",
    "                      2*area2 / lenght2[0],\n",
    "                      2*area3 / lenght3[0])\n",
    "    print(f'Точка лежит внутри треугольника\\nМакс расстояние до стороны: {maxDistance:.7g}')\n",
    "else:\n",
    "    print('Точка лежит вне треугольника')"
   ]
  }
 ],
 "metadata": {
  "kernelspec": {
   "display_name": ".venv",
   "language": "python",
   "name": "python3"
  },
  "language_info": {
   "codemirror_mode": {
    "name": "ipython",
    "version": 3
   },
   "file_extension": ".py",
   "mimetype": "text/x-python",
   "name": "python",
   "nbconvert_exporter": "python",
   "pygments_lexer": "ipython3",
   "version": "3.13.7"
  }
 },
 "nbformat": 4,
 "nbformat_minor": 5
}
